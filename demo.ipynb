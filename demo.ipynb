{
 "cells": [
  {
   "cell_type": "code",
   "execution_count": 6,
   "metadata": {},
   "outputs": [
    {
     "name": "stdout",
     "output_type": "stream",
     "text": [
      "<class 'generator'>\n",
      "<class 'generator'>\n",
      "<class 'generator'>\n",
      "<class 'generator'>\n"
     ]
    }
   ],
   "source": [
    "from vertexai.generative_models import GenerativeModel\n",
    "\n",
    "\n",
    "model = GenerativeModel(\"gemini-1.5-flash-002\")\n",
    "responses = model.generate_content(\"Tell me a joke story\", stream=True)\n",
    "\n",
    "for response in responses:\n",
    "    print(type(responses))"
   ]
  },
  {
   "cell_type": "code",
   "execution_count": null,
   "metadata": {},
   "outputs": [],
   "source": []
  }
 ],
 "metadata": {
  "kernelspec": {
   "display_name": "categorizer",
   "language": "python",
   "name": "python3"
  },
  "language_info": {
   "codemirror_mode": {
    "name": "ipython",
    "version": 3
   },
   "file_extension": ".py",
   "mimetype": "text/x-python",
   "name": "python",
   "nbconvert_exporter": "python",
   "pygments_lexer": "ipython3",
   "version": "3.11.11"
  }
 },
 "nbformat": 4,
 "nbformat_minor": 2
}
